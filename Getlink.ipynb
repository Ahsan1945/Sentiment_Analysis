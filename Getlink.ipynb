{
 "cells": [
  {
   "cell_type": "code",
   "execution_count": null,
   "metadata": {},
   "outputs": [],
   "source": [
    "#Importing packgages yang diperlukan\n",
    "from bs4 import BeautifulSoup as sp\n",
    "\n",
    "#Menggunakan webdriver karena website dinamis dan lebih mudah melakukan pengawasan\n",
    "from selenium import webdriver\n",
    "from selenium.webdriver.chrome.service import Service\n",
    "from selenium.webdriver.chrome.options import Options\n",
    "import pandas\n",
    "import time\n",
    "import re\n",
    "opsi=webdriver.ChromeOptions()\n",
    "servis=Service('chromedriver.exe')\n",
    "driver = webdriver.Chrome(service=servis, options=opsi)\n",
    "\n",
    "#Melakukan looping karena sifat link berupa multipages\n",
    "data_fix=[]\n",
    "for i in range(1, 4):\n",
    "    url=f'https://www.tokopedia.com/gagaofficial/product/page/{i}'\n",
    "    driver.get(url)\n",
    "    time.sleep(5)\n",
    "    last_height = driver.execute_script(\"return document.body.scrollHeight\")\n",
    "    driver.execute_script(\"window.scrollTo(0, 500)\")\n",
    "    time.sleep(3)\n",
    "    content=driver.page_source\n",
    "    data = sp(content, 'html.parser')\n",
    "    items=data.find_all('a',{'class':'pcv3__info-content css-gwkf0u'})\n",
    "    for item in items:    \n",
    "        item = str(item)\n",
    "        regex = re.search(r'href=\"(.*?)\".*?\"(.*?)\"',item)\n",
    "        href = regex.group(1)\n",
    "        title = regex.group(2)\n",
    "        data_fix.append([href,title])\n",
    "driver.quit()\n",
    "#Mengubah menjadi dataframe\n",
    "data_fix=pandas.DataFrame(data_fix,columns=['link','product'])\n",
    "print(data_fix.head())\n",
    "#Mengubah menjadi csv\n",
    "data_fix.to_csv('link_Mie_Gaga.csv',index=False)"
   ]
  }
 ],
 "metadata": {
  "language_info": {
   "name": "python"
  }
 },
 "nbformat": 4,
 "nbformat_minor": 2
}
